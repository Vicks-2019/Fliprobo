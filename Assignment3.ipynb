{
  "nbformat": 4,
  "nbformat_minor": 0,
  "metadata": {
    "colab": {
      "name": "Untitled13.ipynb",
      "provenance": [],
      "authorship_tag": "ABX9TyP7NGFvrXzyTC55uqC9HOOb",
      "include_colab_link": true
    },
    "kernelspec": {
      "name": "python3",
      "display_name": "Python 3"
    }
  },
  "cells": [
    {
      "cell_type": "markdown",
      "metadata": {
        "id": "view-in-github",
        "colab_type": "text"
      },
      "source": [
        "<a href=\"https://colab.research.google.com/github/Vicks-2019/Fliprobo/blob/master/Assignment3.ipynb\" target=\"_parent\"><img src=\"https://colab.research.google.com/assets/colab-badge.svg\" alt=\"Open In Colab\"/></a>"
      ]
    },
    {
      "cell_type": "code",
      "metadata": {
        "id": "zSusDZ5voQjA",
        "colab_type": "code",
        "colab": {
          "base_uri": "https://localhost:8080/",
          "height": 122
        },
        "outputId": "4ef81bf7-b7a4-459b-da14-8f99706b27f3"
      },
      "source": [
        "from google.colab import drive\n",
        "drive.mount(\"/content/gdrive\")"
      ],
      "execution_count": null,
      "outputs": [
        {
          "output_type": "stream",
          "text": [
            "Go to this URL in a browser: https://accounts.google.com/o/oauth2/auth?client_id=947318989803-6bn6qk8qdgf4n4g3pfee6491hc0brc4i.apps.googleusercontent.com&redirect_uri=urn%3aietf%3awg%3aoauth%3a2.0%3aoob&response_type=code&scope=email%20https%3a%2f%2fwww.googleapis.com%2fauth%2fdocs.test%20https%3a%2f%2fwww.googleapis.com%2fauth%2fdrive%20https%3a%2f%2fwww.googleapis.com%2fauth%2fdrive.photos.readonly%20https%3a%2f%2fwww.googleapis.com%2fauth%2fpeopleapi.readonly\n",
            "\n",
            "Enter your authorization code:\n",
            "··········\n",
            "Mounted at /content/gdrive\n"
          ],
          "name": "stdout"
        }
      ]
    },
    {
      "cell_type": "code",
      "metadata": {
        "id": "_9BeNPx1oSpJ",
        "colab_type": "code",
        "colab": {
          "base_uri": "https://localhost:8080/",
          "height": 34
        },
        "outputId": "13961c2b-148b-4974-d459-6d2fb6e4e24b"
      },
      "source": [
        "import keras"
      ],
      "execution_count": null,
      "outputs": [
        {
          "output_type": "stream",
          "text": [
            "Using TensorFlow backend.\n"
          ],
          "name": "stderr"
        }
      ]
    },
    {
      "cell_type": "code",
      "metadata": {
        "id": "Hl-uYc7RzniZ",
        "colab_type": "code",
        "colab": {
          "base_uri": "https://localhost:8080/",
          "height": 68
        },
        "outputId": "b34fd8fe-3ff1-4e77-8adf-0ee22b3fd670"
      },
      "source": [
        "import cv2,os\n",
        "\n",
        "data_path='/content/gdrive/My Drive/clothes'\n",
        "categories=os.listdir(data_path)\n",
        "labels=[i for i in range(len(categories))]\n",
        "\n",
        "label_dict=dict(zip(categories,labels)) \n",
        "\n",
        "print(label_dict)\n",
        "print(categories)\n",
        "print(labels)"
      ],
      "execution_count": null,
      "outputs": [
        {
          "output_type": "stream",
          "text": [
            "{'flipkart_jeans': 0, 'flipkart_trouser': 1}\n",
            "['flipkart_jeans', 'flipkart_trouser']\n",
            "[0, 1]\n"
          ],
          "name": "stdout"
        }
      ]
    },
    {
      "cell_type": "code",
      "metadata": {
        "id": "BjqkApKSztCJ",
        "colab_type": "code",
        "colab": {}
      },
      "source": [
        "img_size=100\n",
        "data=[]\n",
        "target=[]\n",
        "\n",
        "\n",
        "for category in categories:\n",
        "    folder_path=os.path.join(data_path,category)\n",
        "    img_names=os.listdir(folder_path)\n",
        "        \n",
        "    for img_name in img_names:\n",
        "        img_path=os.path.join(folder_path,img_name)\n",
        "        img=cv2.imread(img_path)\n",
        "\n",
        "        try:\n",
        "            gray=cv2.cvtColor(img,cv2.COLOR_BGR2GRAY)           \n",
        "            #Coverting the image into gray scale\n",
        "            resized=cv2.resize(gray,(img_size,img_size))\n",
        "            #resizing the gray scale into 50x50, since we need a fixed common size for all the images in the dataset\n",
        "            data.append(resized)\n",
        "            target.append(label_dict[category])\n",
        "            #appending the image and the label(categorized) into the list (dataset)\n",
        "\n",
        "        except Exception as e:\n",
        "            print('Exception:',e)\n",
        "            #if any exception rasied, the exception will be printed here. And pass to the next image"
      ],
      "execution_count": null,
      "outputs": []
    },
    {
      "cell_type": "code",
      "metadata": {
        "id": "1P0BkJFw0Doq",
        "colab_type": "code",
        "colab": {}
      },
      "source": [
        "import numpy as np\n",
        "\n",
        "data=np.array(data)/255.0\n",
        "data=np.reshape(data,(data.shape[0],img_size,img_size,1))\n",
        "target=np.array(target)\n",
        "\n",
        "from keras.utils import np_utils\n",
        "\n",
        "new_target=np_utils.to_categorical(target)"
      ],
      "execution_count": null,
      "outputs": []
    },
    {
      "cell_type": "code",
      "metadata": {
        "id": "iZuqX5Ch0QFO",
        "colab_type": "code",
        "colab": {}
      },
      "source": [
        "from sklearn.model_selection import train_test_split\n",
        "\n",
        "train_data,test_data,train_target,test_target=train_test_split(data,target,test_size=0.1)"
      ],
      "execution_count": null,
      "outputs": []
    },
    {
      "cell_type": "code",
      "metadata": {
        "id": "t0LX979r0f1v",
        "colab_type": "code",
        "colab": {}
      },
      "source": [
        "import matplotlib.pyplot as plt\n",
        "%matplotlib inline\n",
        "import tensorflow as tf\n"
      ],
      "execution_count": null,
      "outputs": []
    },
    {
      "cell_type": "code",
      "metadata": {
        "id": "qFnV23gxA2it",
        "colab_type": "code",
        "colab": {
          "base_uri": "https://localhost:8080/",
          "height": 268
        },
        "outputId": "bfc9c865-dfe4-402d-cf2e-5aa7b6c9b1f6"
      },
      "source": [
        "img = plt.imshow((tf.squeeze(train_data[0])))"
      ],
      "execution_count": null,
      "outputs": [
        {
          "output_type": "display_data",
          "data": {
            "image/png": "[encoded data removed]",
            "text/plain": [
              "<Figure size 432x288 with 1 Axes>"
            ]
          },
          "metadata": {
            "tags": [],
            "needs_background": "light"
          }
        }
      ]
    },
    {
      "cell_type": "code",
      "metadata": {
        "id": "D9dKUVtm0m6Q",
        "colab_type": "code",
        "colab": {}
      },
      "source": [
        "\n",
        "from keras.models import Sequential\n",
        "from keras.layers import Dense,Activation,Flatten,Dropout\n",
        "from keras.layers import Conv2D,MaxPooling2D\n",
        "from keras.callbacks import ModelCheckpoint\n",
        "\n",
        "model=Sequential()\n",
        "\n",
        "model.add(Conv2D(200,(3,3),input_shape=data.shape[1:]))\n",
        "model.add(Activation('relu'))\n",
        "model.add(MaxPooling2D(pool_size=(2,2)))\n",
        "#The first CNN layer followed by Relu and MaxPooling layers\n",
        "\n",
        "model.add(Conv2D(100,(3,3)))\n",
        "model.add(Activation('relu'))\n",
        "model.add(MaxPooling2D(pool_size=(2,2)))\n",
        "#The second convolution layer followed by Relu and MaxPooling layers\n",
        "\n",
        "model.add(Flatten())\n",
        "model.add(Dropout(0.5))\n",
        "#Flatten layer to stack the output convolutions from second convolution layer\n",
        "model.add(Dense(50,activation='relu'))\n",
        "#Dense layer of 64 neurons\n",
        "model.add(Dense(2,activation='softmax'))\n",
        "#The Final layer with two outputs for two categories\n",
        "\n",
        "model.compile(loss='categorical_crossentropy',optimizer='adam',metrics=['accuracy'])"
      ],
      "execution_count": null,
      "outputs": []
    },
    {
      "cell_type": "code",
      "metadata": {
        "id": "BkWRjCjw01uY",
        "colab_type": "code",
        "colab": {}
      },
      "source": [
        "model.compile(loss=\"sparse_categorical_crossentropy\", \n",
        "              optimizer=\"adam\",\n",
        "              metrics=[\"accuracy\"])"
      ],
      "execution_count": null,
      "outputs": []
    },
    {
      "cell_type": "code",
      "metadata": {
        "id": "ZSp7sqpW1bh1",
        "colab_type": "code",
        "colab": {
          "base_uri": "https://localhost:8080/",
          "height": 714
        },
        "outputId": "548cfdd9-1c19-4dfb-bf0d-2c031a4c0ab9"
      },
      "source": [
        "checkpoint = ModelCheckpoint('model-{epoch:03d}.model',monitor='val_loss',verbose=0,save_best_only=True,mode='auto')\n",
        "history=model.fit(train_data,train_target,epochs=20,callbacks=[checkpoint],validation_split=0.2)"
      ],
      "execution_count": null,
      "outputs": [
        {
          "output_type": "stream",
          "text": [
            "Train on 57 samples, validate on 15 samples\n",
            "Epoch 1/20\n",
            "57/57 [==============================] - 5s 83ms/step - loss: 1.0723 - accuracy: 0.3684 - val_loss: 0.6965 - val_accuracy: 0.4667\n",
            "Epoch 2/20\n",
            "57/57 [==============================] - 5s 80ms/step - loss: 0.7027 - accuracy: 0.3684 - val_loss: 0.6931 - val_accuracy: 0.5333\n",
            "Epoch 3/20\n",
            "57/57 [==============================] - 5s 79ms/step - loss: 0.6937 - accuracy: 0.4737 - val_loss: 0.6936 - val_accuracy: 0.4000\n",
            "Epoch 4/20\n",
            "57/57 [==============================] - 4s 79ms/step - loss: 0.6915 - accuracy: 0.5614 - val_loss: 0.6934 - val_accuracy: 0.4000\n",
            "Epoch 5/20\n",
            "57/57 [==============================] - 4s 79ms/step - loss: 0.6864 - accuracy: 0.5789 - val_loss: 0.6907 - val_accuracy: 0.5333\n",
            "Epoch 6/20\n",
            "57/57 [==============================] - 5s 79ms/step - loss: 0.6762 - accuracy: 0.6140 - val_loss: 0.6814 - val_accuracy: 0.6000\n",
            "Epoch 7/20\n",
            "57/57 [==============================] - 5s 79ms/step - loss: 0.6571 - accuracy: 0.6842 - val_loss: 0.6759 - val_accuracy: 0.6000\n",
            "Epoch 8/20\n",
            "57/57 [==============================] - 5s 79ms/step - loss: 0.6213 - accuracy: 0.6842 - val_loss: 0.6859 - val_accuracy: 0.6000\n",
            "Epoch 9/20\n",
            "57/57 [==============================] - 5s 79ms/step - loss: 0.5990 - accuracy: 0.6667 - val_loss: 0.6572 - val_accuracy: 0.6000\n",
            "Epoch 10/20\n",
            "57/57 [==============================] - 5s 79ms/step - loss: 0.5429 - accuracy: 0.7719 - val_loss: 0.6611 - val_accuracy: 0.6000\n",
            "Epoch 11/20\n",
            "57/57 [==============================] - 5s 79ms/step - loss: 0.5031 - accuracy: 0.7719 - val_loss: 0.6523 - val_accuracy: 0.6000\n",
            "Epoch 12/20\n",
            "57/57 [==============================] - 5s 80ms/step - loss: 0.4715 - accuracy: 0.7719 - val_loss: 0.6767 - val_accuracy: 0.6667\n",
            "Epoch 13/20\n",
            "57/57 [==============================] - 5s 79ms/step - loss: 0.4354 - accuracy: 0.7895 - val_loss: 0.6624 - val_accuracy: 0.6667\n",
            "Epoch 14/20\n",
            "57/57 [==============================] - 4s 79ms/step - loss: 0.4157 - accuracy: 0.7895 - val_loss: 0.6456 - val_accuracy: 0.6667\n",
            "Epoch 15/20\n",
            "57/57 [==============================] - 5s 80ms/step - loss: 0.3985 - accuracy: 0.7895 - val_loss: 0.6461 - val_accuracy: 0.6667\n",
            "Epoch 16/20\n",
            "57/57 [==============================] - 5s 79ms/step - loss: 0.3595 - accuracy: 0.8421 - val_loss: 0.6539 - val_accuracy: 0.7333\n",
            "Epoch 17/20\n",
            "57/57 [==============================] - 5s 80ms/step - loss: 0.3103 - accuracy: 0.8772 - val_loss: 0.5742 - val_accuracy: 0.8667\n",
            "Epoch 18/20\n",
            "57/57 [==============================] - 5s 79ms/step - loss: 0.3311 - accuracy: 0.8947 - val_loss: 0.5639 - val_accuracy: 0.8667\n",
            "Epoch 19/20\n",
            "57/57 [==============================] - 5s 81ms/step - loss: 0.2015 - accuracy: 0.9825 - val_loss: 0.7149 - val_accuracy: 0.6667\n",
            "Epoch 20/20\n",
            "57/57 [==============================] - 5s 81ms/step - loss: 0.2163 - accuracy: 0.9298 - val_loss: 0.6593 - val_accuracy: 0.8667\n"
          ],
          "name": "stdout"
        }
      ]
    },
    {
      "cell_type": "code",
      "metadata": {
        "id": "nj2lNBTi2ECy",
        "colab_type": "code",
        "colab": {}
      },
      "source": [
        "yp = model.predict(test_data)"
      ],
      "execution_count": null,
      "outputs": []
    },
    {
      "cell_type": "code",
      "metadata": {
        "id": "l6C1gjKu3cVr",
        "colab_type": "code",
        "colab": {
          "base_uri": "https://localhost:8080/",
          "height": 34
        },
        "outputId": "3e9be71f-0552-4687-f886-9d6781b4d312"
      },
      "source": [
        "np.argmax(yp[0])"
      ],
      "execution_count": null,
      "outputs": [
        {
          "output_type": "execute_result",
          "data": {
            "text/plain": [
              "1"
            ]
          },
          "metadata": {
            "tags": []
          },
          "execution_count": 20
        }
      ]
    },
    {
      "cell_type": "code",
      "metadata": {
        "id": "59hv_8IY3lpn",
        "colab_type": "code",
        "colab": {
          "base_uri": "https://localhost:8080/",
          "height": 34
        },
        "outputId": "268f80e4-0c2d-49a7-9b24-9d97330571bd"
      },
      "source": [
        "labels[np.argmax(yp[0])]"
      ],
      "execution_count": null,
      "outputs": [
        {
          "output_type": "execute_result",
          "data": {
            "text/plain": [
              "1"
            ]
          },
          "metadata": {
            "tags": []
          },
          "execution_count": 22
        }
      ]
    },
    {
      "cell_type": "code",
      "metadata": {
        "id": "KF7cFdIJ3x1B",
        "colab_type": "code",
        "colab": {}
      },
      "source": [
        ""
      ],
      "execution_count": null,
      "outputs": []
    }
  ]
}