{
 "cells": [
  {
   "cell_type": "markdown",
   "metadata": {},
   "source": [
    "##  script to download trousers images"
   ]
  },
  {
   "cell_type": "code",
   "execution_count": 46,
   "metadata": {},
   "outputs": [],
   "source": [
    "from selenium import webdriver\n",
    "import os"
   ]
  },
  {
   "cell_type": "code",
   "execution_count": 47,
   "metadata": {},
   "outputs": [],
   "source": [
    "chrome_path = r\"C:\\Users\\Vikash\\Desktop\\Webscrap\\chromedriver.exe\""
   ]
  },
  {
   "cell_type": "code",
   "execution_count": 48,
   "metadata": {},
   "outputs": [],
   "source": [
    "driver = webdriver.Chrome(chrome_path)"
   ]
  },
  {
   "cell_type": "code",
   "execution_count": 49,
   "metadata": {},
   "outputs": [],
   "source": [
    "my_page = driver.get('https://www.flipkart.com/search?q=trouser&sid=clo%2Cvua%2Cmle%2Clhk&as=on&as-show=on&otracker=AS_QueryStore_OrganicAutoSuggest_1_4_na_na_na&otracker1=AS_QueryStore_OrganicAutoSuggest_1_4_na_na_na&as-pos=1&as-type=RECENT&suggestionId=trouser%7CMen%27s+Trousers&requestId=726ee6f6-b1a2-4eae-96a5-53264c5005d1&as-searchtext=Trou')"
   ]
  },
  {
   "cell_type": "code",
   "execution_count": 50,
   "metadata": {},
   "outputs": [],
   "source": [
    "def make_directory(dirname):\n",
    "    current_path = os.getcwd()\n",
    "    path = os.path.join(current_path,dirname)\n",
    "    if not os.path.exists(path):\n",
    "        os.makedirs(path)"
   ]
  },
  {
   "cell_type": "code",
   "execution_count": 51,
   "metadata": {},
   "outputs": [],
   "source": [
    "make_directory(\"flipkart_trouser\")"
   ]
  },
  {
   "cell_type": "code",
   "execution_count": 52,
   "metadata": {},
   "outputs": [
    {
     "name": "stdout",
     "output_type": "stream",
     "text": [
      "<selenium.webdriver.remote.webelement.WebElement (session=\"5bf669ea277afe0b0c648645cc39cee9\", element=\"b1fdb97b-c9ca-46df-b9c3-a2498773aae1\")>\n"
     ]
    }
   ],
   "source": [
    "images = driver.find_elements_by_xpath(\"//img[@class='_3togXc']\")\n",
    "print(images[0])"
   ]
  },
  {
   "cell_type": "code",
   "execution_count": 53,
   "metadata": {},
   "outputs": [
    {
     "name": "stdout",
     "output_type": "stream",
     "text": [
      "https://rukminim1.flixcart.com/image/309/371/k4bms280/trouser/d/w/q/32-astfwcrhh06029-allen-solly-original-imafn8ymzdsatrjs.jpeg?q=50\n",
      "https://rukminim1.flixcart.com/image/329/395/jz1l7rk0/trouser/j/u/s/30-astfwcrfo87872-allen-solly-original-imafj5keas9kbqu7.jpeg?q=50\n",
      "https://rukminim1.flixcart.com/image/329/395/k6s82vk0/trouser/4/z/k/32-putfusspw77086-peter-england-university-original-imafpyk2enuevmzh.jpeg?q=50\n",
      "https://rukminim1.flixcart.com/image/329/395/k7gikcw0/trouser/z/g/b/38-new-combo-classio-fashion-original-imafpzz8yjgxckfg.jpeg?q=50\n",
      "https://rukminim1.flixcart.com/image/329/395/jt4olu80/trouser/e/t/5/36-jogger-green-plus91-original-imafek22njetaexx.jpeg?q=50\n",
      "https://rukminim1.flixcart.com/image/329/395/k70spzk0/trouser/x/z/6/30-hltr003912-highlander-original-imafpchtyjzcyfcy.jpeg?q=50\n",
      "https://rukminim1.flixcart.com/image/329/395/k0zlsi80/trouser/r/t/z/32-ustro7002-u-s-polo-association-original-imafkz6jftphrqnx.jpeg?q=50\n",
      "https://rukminim1.flixcart.com/image/329/395/k70spzk0/trouser/e/r/p/30-hltr003917-highlander-original-imafpchqzbuvcgay.jpeg?q=50\n",
      "https://rukminim1.flixcart.com/image/329/395/k37mg7k0/trouser/z/3/8/28-pcty00366-o4-park-avenue-original-imafme4f6sh5zavn.jpeg?q=50\n",
      "https://rukminim1.flixcart.com/image/329/395/k7tdj0w0/trouser/6/q/x/32-fmtro1004-flying-machine-original-imafpwz7gsjjycrh.jpeg?q=50\n",
      "https://rukminim1.flixcart.com/image/329/395/k3erngw0/trouser/m/p/x/32-pcty00368-o1-park-avenue-original-imafme6gvcs7g3vr.jpeg?q=50\n",
      "https://rukminim1.flixcart.com/image/329/395/k5zn9u80/trouser/e/v/v/34-pctfcsspq27903-peter-england-original-imafzk4wnhjrcrm4.jpeg?q=50\n",
      "https://rukminim1.flixcart.com/image/329/395/k70spzk0/trouser/3/q/j/30-hltr003871-highlander-original-imafpchrggg5szzh.jpeg?q=50\n",
      "https://rukminim1.flixcart.com/image/329/395/k8ytaq80/trouser/2/x/k/32-petfmctfe11092-peter-england-original-imafquyjyb3vbm3h.jpeg?q=50\n",
      "https://rukminim1.flixcart.com/image/329/395/k2z1t3k0/trouser/r/u/q/34-xmtx02864-n4-parx-original-imafm7gmaeuraahu.jpeg?q=50\n",
      "https://rukminim1.flixcart.com/image/329/395/k687wy80/trouser/w/x/z/28-pctfcsspi07520-peter-england-original-imafzpzwvhgcyzek.jpeg?q=50\n",
      "https://rukminim1.flixcart.com/image/329/395/k5e7o280/trouser/z/q/b/32-rmts03635-o6-raymond-original-imafz3yxzqhgbwpp.jpeg?q=50\n",
      "https://rukminim1.flixcart.com/image/329/395/k20r8nk0/trouser/h/b/v/32-fmtro022-flying-machine-original-imafhcw59epdp7df.jpeg?q=50\n",
      "https://rukminim1.flixcart.com/image/329/395/kazor680/trouser/q/r/c/34-packof2-baleno-green-sgrey-aa-ad-av-original-imafsgynkdvkfga4.jpeg?q=50\n",
      "https://rukminim1.flixcart.com/image/329/395/k5bcscw0/trouser/e/r/y/32-astfwcrfq73275-allen-solly-original-imafny8fvrw6vgak.jpeg?q=50\n",
      "https://rukminim1.flixcart.com/image/329/395/jvwpfgw0/trouser/e/w/k/30-t-130-trouser-baleno-black-aa-ad-av-original-imafgm8ytr4c7yez.jpeg?q=50\n",
      "https://rukminim1.flixcart.com/image/329/395/k70spzk0/trouser/c/5/b/30-hltr003910-highlander-original-imafpchtkag5jjvx.jpeg?q=50\n",
      "https://rukminim1.flixcart.com/image/329/395/k1tm1e80/trouser/v/g/9/32-aw19ftr002e-metronaut-original-imafh8zh62axqswg.jpeg?q=50\n",
      "https://rukminim1.flixcart.com/image/329/395/jst930w0/trouser/p/6/a/34-astfgsrp371065-allen-solly-original-imafeaw5fuv25b9h.jpeg?q=50\n",
      "https://rukminim1.flixcart.com/image/329/395/k3ahbww0/trouser/k/x/v/32-rctl00428-k8-raymond-original-imafmdfhwshttkyq.jpeg?q=50\n",
      "https://rukminim1.flixcart.com/image/329/395/jzblaq80/trouser/p/a/t/34-pctfcssp450422-peter-england-original-imafjcseek7waatz.jpeg?q=50\n",
      "https://rukminim1.flixcart.com/image/329/395/k70spzk0/trouser/p/e/b/30-hltr003916-highlander-original-imafpchqztfuydfq.jpeg?q=50\n",
      "https://rukminim1.flixcart.com/image/329/395/k2c6rgw0/trouser/a/p/y/36-vstfltrfb67844-van-heusen-original-imafhpqeu3mqnh6z.jpeg?q=50\n",
      "https://rukminim1.flixcart.com/image/329/395/k7m8brk0/trouser/z/f/k/32-fmtro1008-flying-machine-original-imafpt74kgvghjfc.jpeg?q=50\n",
      "https://rukminim1.flixcart.com/image/329/395/k687wy80/trouser/y/s/t/32-putfusspj09315-peter-england-university-original-imafzq28s4qs2zeq.jpeg?q=50\n",
      "https://rukminim1.flixcart.com/image/329/395/k7nnrm80/trouser/m/w/r/32-fmtro1002-flying-machine-original-imafptbtdjeytdkg.jpeg?q=50\n",
      "https://rukminim1.flixcart.com/image/329/395/k3erngw0/trouser/a/j/7/30-pcty00370-o6-park-avenue-original-imafme6fhgnn3bmz.jpeg?q=50\n",
      "https://rukminim1.flixcart.com/image/329/395/jrz8u4w0/trouser/e/g/c/36-bmw-cotton-trs-ben-martin-original-imafdnrptfmmxwqv.jpeg?q=50\n",
      "https://rukminim1.flixcart.com/image/329/395/k41mp3k0/trouser/r/z/9/32-rctl00425-b8-raymond-original-imafnfenzkazwzzf.jpeg?q=50\n",
      "https://rukminim1.flixcart.com/image/329/395/jxf05u80/trouser/n/j/e/36-combo-trouser-baleno-blackand-green-aa-ad-av-original-imafhuqs5xrfhfzq.jpeg?q=50\n",
      "https://rukminim1.flixcart.com/image/329/395/k3t21zk0/trouser/e/h/d/36-kctr-5555-bk-fubar-original-imafmuzabfsh5yzp.jpeg?q=50\n",
      "https://rukminim1.flixcart.com/image/329/395/k66sh3k0/trouser/j/g/n/32-afyotr0051-arrow-original-imafzzvhnxswhtwh.jpeg?q=50\n",
      "https://rukminim1.flixcart.com/image/329/395/k7usyvk0/trouser/j/2/f/32-fmtro1016-flying-machine-original-imafpyzdfghr42gj.jpeg?q=50\n",
      "https://rukminim1.flixcart.com/image/329/395/k70spzk0/trouser/a/2/g/30-hltr003909-highlander-original-imafpchtbrkknm56.jpeg?q=50\n",
      "https://rukminim1.flixcart.com/image/329/395/k2xmd8w0/trouser/8/a/3/42-astfwsrft64200-allen-solly-original-imafm5jhxae7j9pz.jpeg?q=50\n"
     ]
    }
   ],
   "source": [
    "urls = []\n",
    "for image in images:\n",
    "    source = image.get_attribute('src')\n",
    "    urls.append(source)\n",
    "    print(source)\n",
    "    "
   ]
  },
  {
   "cell_type": "code",
   "execution_count": 54,
   "metadata": {},
   "outputs": [
    {
     "data": {
      "text/plain": [
       "40"
      ]
     },
     "execution_count": 54,
     "metadata": {},
     "output_type": "execute_result"
    }
   ],
   "source": [
    "len(urls)"
   ]
  },
  {
   "cell_type": "code",
   "execution_count": 55,
   "metadata": {},
   "outputs": [],
   "source": [
    "import shutil\n",
    "import requests"
   ]
  },
  {
   "cell_type": "code",
   "execution_count": 58,
   "metadata": {},
   "outputs": [
    {
     "name": "stdout",
     "output_type": "stream",
     "text": [
      "Downloading 1 of 40 images\n",
      "Downloading 2 of 40 images\n",
      "Downloading 3 of 40 images\n",
      "Downloading 4 of 40 images\n",
      "Downloading 5 of 40 images\n",
      "Downloading 6 of 40 images\n",
      "Downloading 7 of 40 images\n",
      "Downloading 8 of 40 images\n",
      "Downloading 9 of 40 images\n",
      "Downloading 10 of 40 images\n",
      "Downloading 11 of 40 images\n",
      "Downloading 12 of 40 images\n",
      "Downloading 13 of 40 images\n",
      "Downloading 14 of 40 images\n",
      "Downloading 15 of 40 images\n",
      "Downloading 16 of 40 images\n",
      "Downloading 17 of 40 images\n",
      "Downloading 18 of 40 images\n",
      "Downloading 19 of 40 images\n",
      "Downloading 20 of 40 images\n",
      "Downloading 21 of 40 images\n",
      "Downloading 22 of 40 images\n",
      "Downloading 23 of 40 images\n",
      "Downloading 24 of 40 images\n",
      "Downloading 25 of 40 images\n",
      "Downloading 26 of 40 images\n",
      "Downloading 27 of 40 images\n",
      "Downloading 28 of 40 images\n",
      "Downloading 29 of 40 images\n",
      "Downloading 30 of 40 images\n",
      "Downloading 31 of 40 images\n",
      "Downloading 32 of 40 images\n",
      "Downloading 33 of 40 images\n",
      "Downloading 34 of 40 images\n",
      "Downloading 35 of 40 images\n",
      "Downloading 36 of 40 images\n",
      "Downloading 37 of 40 images\n",
      "Downloading 38 of 40 images\n",
      "Downloading 39 of 40 images\n",
      "Downloading 40 of 40 images\n"
     ]
    }
   ],
   "source": [
    "for index,link in enumerate(urls):\n",
    "    print(\"Downloading {0} of {1} images\".format(index+1,len(urls)))\n",
    "    response = requests.get(link)\n",
    "    with open('flipkart_trouser/img_{0}.jpeg'.format(index),\"wb\") as file:\n",
    "        file.write(response.content)"
   ]
  },
  {
   "cell_type": "code",
   "execution_count": 59,
   "metadata": {},
   "outputs": [],
   "source": [
    "next_page = driver.find_element_by_xpath(\"//a[@class='_3fVaIS']\").click()"
   ]
  },
  {
   "cell_type": "code",
   "execution_count": 63,
   "metadata": {},
   "outputs": [
    {
     "name": "stdout",
     "output_type": "stream",
     "text": [
      "<selenium.webdriver.remote.webelement.WebElement (session=\"5bf669ea277afe0b0c648645cc39cee9\", element=\"b136a4a4-ff2e-4edb-899d-27fd98852ec6\")>\n"
     ]
    }
   ],
   "source": [
    "images = driver.find_elements_by_xpath(\"//img[@class='_3togXc']\")\n",
    "print(images[0])"
   ]
  },
  {
   "cell_type": "code",
   "execution_count": 64,
   "metadata": {},
   "outputs": [
    {
     "name": "stdout",
     "output_type": "stream",
     "text": [
      "https://rukminim1.flixcart.com/image/309/371/k66sh3k0/trouser/j/g/n/32-afyotr0051-arrow-original-imafzzvhnxswhtwh.jpeg?q=50\n",
      "https://rukminim1.flixcart.com/image/309/371/k79dd3k0/trouser/f/b/w/34-petfmnsp959289-peter-england-original-imafpjkajnmq79uk.jpeg?q=50\n",
      "https://rukminim1.flixcart.com/image/309/371/kazor680/trouser/n/w/y/34-combo-baleno-ad-av-original-imafsfvxh5fgxruy.jpeg?q=50\n",
      "https://rukminim1.flixcart.com/image/309/371/k8ytaq80/trouser/2/x/k/32-petfmctfe11092-peter-england-original-imafquyjyb3vbm3h.jpeg?q=50\n",
      "https://rukminim1.flixcart.com/image/309/371/k6nxrbk0/trouser/y/u/f/28-kctr-5555-crm-fubar-original-imafp2j6pdqymytg.jpeg?q=50\n",
      "https://rukminim1.flixcart.com/image/309/371/k70spzk0/trouser/y/h/f/30-hltr004034-highlander-original-imafpchrazyfevm5.jpeg?q=50\n",
      "https://rukminim1.flixcart.com/image/309/371/k6jnfrk0/trouser/f/6/v/32-petfmnsp559465-peter-england-original-imafzzkfgn2fgz5h.jpeg?q=50\n",
      "https://rukminim1.flixcart.com/image/309/371/k70spzk0/trouser/9/2/q/30-hltr003863-highlander-original-imafpchtbd7yzysx.jpeg?q=50\n",
      "https://rukminim1.flixcart.com/image/309/371/k70spzk0/trouser/w/a/h/30-hltr003966-highlander-original-imafpchqendfwsse.jpeg?q=50\n",
      "https://rukminim1.flixcart.com/image/309/371/k687wy80/trouser/y/s/t/32-putfusspj09315-peter-england-university-original-imafzq28s4qs2zeq.jpeg?q=50\n",
      "https://rukminim1.flixcart.com/image/309/371/k7f34i80/trouser/k/t/5/28-vrocp-gy-vrojass-original-imafpz4grpxubdwa.jpeg?q=50\n",
      "https://rukminim1.flixcart.com/image/309/371/k1dw70w0/trouser/8/y/4/40-combo-double-classio-fashion-original-imafkevnprqcn9vn.jpeg?q=50\n",
      "https://rukminim1.flixcart.com/image/309/371/k12go7k0/trouser/7/j/n/32-aw19ch005c-metronaut-original-imafkq3qhhdsbykg.jpeg?q=50\n",
      "https://rukminim1.flixcart.com/image/309/371/k41mp3k0/trouser/r/z/9/32-rctl00425-b8-raymond-original-imafnfenzkazwzzf.jpeg?q=50\n",
      "https://rukminim1.flixcart.com/image/309/371/jmmce4w0/trouser/y/r/v/30-formalblue-brown-classio-original-imaf8uwyxtwa6g4c.jpeg?q=50\n",
      "https://rukminim1.flixcart.com/image/309/371/jydaqa80/trouser/n/5/s/38-pctfcssp710474-peter-england-original-imafggzvwmhutzz7.jpeg?q=50\n",
      "https://rukminim1.flixcart.com/image/309/371/k5cs87k0/trouser/f/9/s/38-petfmnspl48235-peter-england-original-imafz26mvmfww2hh.jpeg?q=50\n",
      "https://rukminim1.flixcart.com/image/309/371/k1nw9zk0/trouser/d/a/9/30-kctr-5555-grey-fubar-original-imafh6jhqy2pdhxr.jpeg?q=50\n",
      "https://rukminim1.flixcart.com/image/309/371/jvb9tow0/trouser/k/a/y/36-276491779-ruggers-original-imafg8z6d8my7hcy.jpeg?q=50\n",
      "https://rukminim1.flixcart.com/image/309/371/k6s82vk0/trouser/4/z/k/32-putfusspw77086-peter-england-university-original-imafpyk2enuevmzh.jpeg?q=50\n",
      "https://rukminim1.flixcart.com/image/309/371/k37mg7k0/trouser/h/x/u/28-pcty00367-b8-park-avenue-original-imafme5vhrn7qzyk.jpeg?q=50\n",
      "https://rukminim1.flixcart.com/image/309/371/trouser/r/6/a/40-blackbelano-aa-ad-av-original-imaeqbhmgqwphbqb.jpeg?q=50\n",
      "https://rukminim1.flixcart.com/image/309/371/jxqfonk0/trouser/3/t/q/38-bmw-cotton-trs-ben-martin-original-imafg4vhtcgztehc.jpeg?q=50\n",
      "https://rukminim1.flixcart.com/image/309/371/jt8yxe80/trouser/u/t/r/32-pctfcslpq79459-peter-england-original-imafen9ezerbz89d.jpeg?q=50\n",
      "https://rukminim1.flixcart.com/image/309/371/kb9ou4w0/trouser/p/m/e/32-pctfcskp381480-peter-england-original-imafsnpdecg8am4f.jpeg?q=50\n",
      "https://rukminim1.flixcart.com/image/309/371/k2c6rgw0/trouser/a/p/y/36-vstfltrfb67844-van-heusen-original-imafhpqeu3mqnh6z.jpeg?q=50\n",
      "https://rukminim1.flixcart.com/image/309/371/k4k7f680/trouser/6/2/7/32-19a4ctwb3050i-p20-united-colors-of-benetton-original-imafnfwmgtsxtpkq.jpeg?q=50\n",
      "https://rukminim1.flixcart.com/image/309/371/k70spzk0/trouser/h/k/u/30-hltr003959-highlander-original-imafpchqmyqyxf8h.jpeg?q=50\n",
      "https://rukminim1.flixcart.com/image/309/371/k70spzk0/trouser/h/q/h/30-hltr004284-highlander-original-imafpchrphstuynd.jpeg?q=50\n",
      "https://rukminim1.flixcart.com/image/309/371/k4d27ww0/trouser/x/b/d/42-rctl00423-b8-raymond-original-imafna8cdhzy2xtz.jpeg?q=50\n",
      "https://rukminim1.flixcart.com/image/309/371/k3yrte80/trouser/9/j/z/32-pcty00373-o7-park-avenue-original-imafmvx67kauxttk.jpeg?q=50\n",
      "https://rukminim1.flixcart.com/image/309/371/k6zda4w0/trouser/q/4/r/32-pctfcsspd83051-peter-england-original-imafpbjhnyfkwtyb.jpeg?q=50\n",
      "https://rukminim1.flixcart.com/image/309/371/kb6tyfk0/trouser/h/j/n/32-putfusspo48518-peter-england-university-original-imafsk52vg98nnph.jpeg?q=50\n",
      "https://rukminim1.flixcart.com/image/309/371/k687wy80/trouser/r/r/u/32-putfussp170662-peter-england-university-original-imafzq28cacfpchm.jpeg?q=50\n",
      "https://rukminim1.flixcart.com/image/309/371/k6nxrbk0/trouser/4/y/p/28-kctr-5555-nb-fubar-original-imafp2j6cphgy9xf.jpeg?q=50\n",
      "https://rukminim1.flixcart.com/image/309/371/k4324y80/trouser/g/t/n/46-petfmnspo20689-peter-england-original-imafnfkrhkpmwksy.jpeg?q=50\n",
      "https://rukminim1.flixcart.com/image/309/371/k0zlsi80/trouser/g/d/9/32-ustro7025-u-s-polo-association-original-imafkz6gghm7hzdy.jpeg?q=50\n",
      "https://rukminim1.flixcart.com/image/309/371/k3ncakw0/trouser/7/u/w/32-pcty00369-n7-park-avenue-original-imafmncm24sazaeh.jpeg?q=50\n",
      "https://rukminim1.flixcart.com/image/309/371/k687wy80/trouser/v/j/f/32-l38152248147-lee-original-imafzpzmaehaabja.jpeg?q=50\n",
      "https://rukminim1.flixcart.com/image/309/371/k6s82vk0/trouser/a/s/z/32-putfussp315381-peter-england-university-original-imafpyk2fzpzn2jb.jpeg?q=50\n"
     ]
    }
   ],
   "source": [
    "urls = []\n",
    "for image in images:\n",
    "    source = image.get_attribute('src')\n",
    "    urls.append(source)\n",
    "    print(source)\n",
    "    "
   ]
  },
  {
   "cell_type": "code",
   "execution_count": 65,
   "metadata": {},
   "outputs": [
    {
     "name": "stdout",
     "output_type": "stream",
     "text": [
      "Downloading 1 of 40 images\n",
      "Downloading 2 of 40 images\n",
      "Downloading 3 of 40 images\n",
      "Downloading 4 of 40 images\n",
      "Downloading 5 of 40 images\n",
      "Downloading 6 of 40 images\n",
      "Downloading 7 of 40 images\n",
      "Downloading 8 of 40 images\n",
      "Downloading 9 of 40 images\n",
      "Downloading 10 of 40 images\n",
      "Downloading 11 of 40 images\n",
      "Downloading 12 of 40 images\n",
      "Downloading 13 of 40 images\n",
      "Downloading 14 of 40 images\n",
      "Downloading 15 of 40 images\n",
      "Downloading 16 of 40 images\n",
      "Downloading 17 of 40 images\n",
      "Downloading 18 of 40 images\n",
      "Downloading 19 of 40 images\n",
      "Downloading 20 of 40 images\n",
      "Downloading 21 of 40 images\n",
      "Downloading 22 of 40 images\n",
      "Downloading 23 of 40 images\n",
      "Downloading 24 of 40 images\n",
      "Downloading 25 of 40 images\n",
      "Downloading 26 of 40 images\n",
      "Downloading 27 of 40 images\n",
      "Downloading 28 of 40 images\n",
      "Downloading 29 of 40 images\n",
      "Downloading 30 of 40 images\n",
      "Downloading 31 of 40 images\n",
      "Downloading 32 of 40 images\n",
      "Downloading 33 of 40 images\n",
      "Downloading 34 of 40 images\n",
      "Downloading 35 of 40 images\n",
      "Downloading 36 of 40 images\n",
      "Downloading 37 of 40 images\n",
      "Downloading 38 of 40 images\n",
      "Downloading 39 of 40 images\n",
      "Downloading 40 of 40 images\n"
     ]
    }
   ],
   "source": [
    "page = 2\n",
    "for index,link in enumerate(urls):\n",
    "    print(\"Downloading {0} of {1} images\".format(index+1,len(urls)))\n",
    "    response = requests.get(link)\n",
    "    with open('flipkart_trouser/img_{0}.jpeg'.format(index),\"wb\") as file:\n",
    "        file.write(response.content)"
   ]
  },
  {
   "cell_type": "markdown",
   "metadata": {},
   "source": [
    "## Jeans image scraping\n"
   ]
  },
  {
   "cell_type": "code",
   "execution_count": 66,
   "metadata": {},
   "outputs": [],
   "source": [
    "from selenium import webdriver\n",
    "import os"
   ]
  },
  {
   "cell_type": "code",
   "execution_count": 67,
   "metadata": {},
   "outputs": [],
   "source": [
    "chrome_path = r\"C:\\Users\\Vikash\\Desktop\\Webscrap\\chromedriver.exe\""
   ]
  },
  {
   "cell_type": "code",
   "execution_count": 68,
   "metadata": {},
   "outputs": [],
   "source": [
    "driver = webdriver.Chrome(chrome_path)"
   ]
  },
  {
   "cell_type": "code",
   "execution_count": 69,
   "metadata": {},
   "outputs": [],
   "source": [
    "my_page1 = driver.get('https://www.flipkart.com/search?q=jeans&sid=clo%2Cvua%2Ck58%2Ci51&as=on&as-show=on&otracker=AS_QueryStore_OrganicAutoSuggest_1_5_na_na_na&otracker1=AS_QueryStore_OrganicAutoSuggest_1_5_na_na_na&as-pos=1&as-type=RECENT&suggestionId=jeans%7CMen%27s+Jeans&requestId=eadd3772-eda4-4d5d-9f75-d272a43889cf&as-searchtext=jeans')"
   ]
  },
  {
   "cell_type": "code",
   "execution_count": 70,
   "metadata": {},
   "outputs": [],
   "source": [
    "make_directory(\"flipkart_jeans\")"
   ]
  },
  {
   "cell_type": "code",
   "execution_count": 71,
   "metadata": {},
   "outputs": [
    {
     "name": "stdout",
     "output_type": "stream",
     "text": [
      "<selenium.webdriver.remote.webelement.WebElement (session=\"a5c0b33b8e3022dd7c5a6fa8f77f74a4\", element=\"df100b77-e2f8-42bc-b9af-4ae3a71f8748\")>\n"
     ]
    }
   ],
   "source": [
    "images = driver.find_elements_by_xpath(\"//img[@class='_3togXc']\")\n",
    "print(images[0])"
   ]
  },
  {
   "cell_type": "code",
   "execution_count": 72,
   "metadata": {},
   "outputs": [
    {
     "name": "stdout",
     "output_type": "stream",
     "text": [
      "https://rukminim1.flixcart.com/image/309/371/k0zlsi80/jean/f/d/h/32-pm204291z422-pepe-jeans-original-imafknddb5uscd35.jpeg?q=50\n",
      "https://rukminim1.flixcart.com/image/329/395/k0zlsi80/jean/3/z/n/32-pm204291x382-pepe-jeans-original-imafknddqjze8qwr.jpeg?q=50\n",
      "https://rukminim1.flixcart.com/image/329/395/k1v1h8w0/jean/n/g/6/32-w37013w22smu-wrangler-original-imafhc9feyzymcuz.jpeg?q=50\n",
      "https://rukminim1.flixcart.com/image/329/395/k2urhjk0/jean/j/2/v/32-w38457w22smu-wrangler-original-imafhv9fgk8y7znm.jpeg?q=50\n",
      "https://rukminim1.flixcart.com/image/329/395/jean/n/u/3/bmw-darklevis-ben-martin-32-original-imaedpc4zcgjadsv.jpeg?q=50\n",
      "https://rukminim1.flixcart.com/image/329/395/k0zlsi80/jean/w/r/y/28-12171527-jack-jones-original-imafkz6cv69mthaz.jpeg?q=50\n",
      "https://rukminim1.flixcart.com/image/329/395/jh6l2fk0/jean/4/a/z/30-lj183a-lzard-original-imaf5883mb8vchhb.jpeg?q=50\n",
      "https://rukminim1.flixcart.com/image/329/395/jqmnv680/jean/h/u/p/36-lj3127-lzard-original-imafckugeffzszqx.jpeg?q=50\n",
      "https://rukminim1.flixcart.com/image/329/395/jjylw280/jean/p/a/s/34-eps-black-03-urbano-fashion-original-imaf7f7wyy7sv6zk.jpeg?q=50\n",
      "https://rukminim1.flixcart.com/image/329/395/k4ss2a80/jean/e/w/d/32-w38507w22smu-wrangler-original-imafngzg3d6pbxsc.jpeg?q=50\n",
      "https://rukminim1.flixcart.com/image/329/395/k6l2vm80/jean/y/p/r/32-w38503w22smu-wrangler-original-imafngxjdvytrhfy.jpeg?q=50\n",
      "https://rukminim1.flixcart.com/image/329/395/jhavdzk0/jean/j/x/p/30-hpsjogger-lgrey-urbano-fashion-original-imaf5bzbhhvwu9by.jpeg?q=50\n",
      "https://rukminim1.flixcart.com/image/329/395/k687wy80/jean/s/t/f/32-18298-0873-levi-s-original-imafzqfzsxm9mjhk.jpeg?q=50\n",
      "https://rukminim1.flixcart.com/image/329/395/k0zlsi80/jean/q/t/u/32-pm204291x422-pepe-jeans-original-imafknddycrbvghy.jpeg?q=50\n",
      "https://rukminim1.flixcart.com/image/329/395/k2urhjk0/jean/s/6/e/32-w38453w22smu-wrangler-original-imafhv9frtzyy48q.jpeg?q=50\n",
      "https://rukminim1.flixcart.com/image/329/395/k7usyvk0/jean/q/v/r/32-fmjno1097-flying-machine-original-imafpzjxxzw2y5zf.jpeg?q=50\n",
      "https://rukminim1.flixcart.com/image/329/395/k5pn6vk0/jean/m/2/4/32-kjb-1409-dnft-gry-killer-original-imafz9xjgkhguknc.jpeg?q=50\n",
      "https://rukminim1.flixcart.com/image/329/395/k2urhjk0/jean/h/f/3/32-w38467w22smu-wrangler-original-imafhv9f3myvhpyv.jpeg?q=50\n",
      "https://rukminim1.flixcart.com/image/329/395/jxuq07k0/jean/e/r/7/32-w36991w22smu-wrangler-original-imafg7sgfqxhrmbg.jpeg?q=50\n",
      "https://rukminim1.flixcart.com/image/329/395/k0zlsi80/jean/9/2/b/32-pm204291x692-pepe-jeans-original-imafkmsf9gsagy8h.jpeg?q=50\n",
      "https://rukminim1.flixcart.com/image/329/395/k0e66q80/jean/q/w/v/32-l36161248smu-lee-original-imafk7y5rfmhpgu2.jpeg?q=50\n",
      "https://rukminim1.flixcart.com/image/329/395/k1tm1e80/jean/n/g/g/32-maw19jn192-metronaut-original-imafh8yygptxhsvz.jpeg?q=50\n",
      "https://rukminim1.flixcart.com/image/329/395/k0flmkw0/jean/y/h/j/32-l36144248smu-lee-original-imafk75yhbtkervz.jpeg?q=50\n",
      "https://rukminim1.flixcart.com/image/329/395/k0zlsi80/jean/x/6/k/32-pm204291m722-pepe-jeans-original-imafkz6g8y5zu58u.jpeg?q=50\n",
      "https://rukminim1.flixcart.com/image/329/395/k7jdg280/jean/j/z/x/32-fmjno0420-flying-machine-original-imafpz6cnjh3pjua.jpeg?q=50\n",
      "https://rukminim1.flixcart.com/image/329/395/k7m8brk0/jean/m/g/w/32-kjb-1414-dnft-ice-killer-original-imafpt7mrmy8axgu.jpeg?q=50\n",
      "https://rukminim1.flixcart.com/image/329/395/k12go7k0/jean/8/c/c/32-maw19jn191-metronaut-original-imafkq66cwvrztha.jpeg?q=50\n",
      "https://rukminim1.flixcart.com/image/329/395/k12go7k0/jean/d/z/a/32-efskn-dev-30-spykar-original-imafkqawgdxxzhfa.jpeg?q=50\n",
      "https://rukminim1.flixcart.com/image/329/395/k7usyvk0/jean/y/w/n/32-w33233w2201z-wrangler-original-imafpzbgzchjchby.jpeg?q=50\n",
      "https://rukminim1.flixcart.com/image/329/395/k0zlsi80/jean/r/z/8/32-pm204291o172-pepe-jeans-original-imafkhzuuszfaj9t.jpeg?q=50\n",
      "https://rukminim1.flixcart.com/image/329/395/k0plpjk0/jean/r/g/f/32-44741-0190-denizen-original-imafkdxerxjy7txq.jpeg?q=50\n",
      "https://rukminim1.flixcart.com/image/329/395/k7ksvww0/jean/f/h/v/32-kjb-1240-dnft-bl-killer-original-imafpsc49zsubvw6.jpeg?q=50\n",
      "https://rukminim1.flixcart.com/image/329/395/k4x2du80/jean/d/8/2/32-bss20d006-billion-original-imafnpvdgnrshsfm.jpeg?q=50\n",
      "https://rukminim1.flixcart.com/image/329/395/k0zlsi80/jean/n/b/u/32-pm204291z082-pepe-jeans-original-imafkndduchxyyny.jpeg?q=50\n",
      "https://rukminim1.flixcart.com/image/329/395/k7usyvk0/jean/s/h/c/32-fmjno1110-flying-machine-original-imafpzdsn6szypjd.jpeg?q=50\n",
      "https://rukminim1.flixcart.com/image/329/395/j6gs6fk0/jean/n/h/z/40-jog-hps-black-urbano-fashion-original-imaewxe7fgyx7u28.jpeg?q=50\n",
      "https://rukminim1.flixcart.com/image/329/395/jmjhifk0/jean/z/7/n/32-l222922481mv-lee-original-imaf9dtmmgfyksym.jpeg?q=50\n",
      "https://rukminim1.flixcart.com/image/329/395/k0zlsi80/jean/v/u/f/32-maw19jn199-metronaut-original-imafkmfwudy6fktq.jpeg?q=50\n",
      "https://rukminim1.flixcart.com/image/329/395/k3xcdjk0/jean/k/k/f/32-kjb-1157-slnkft-bk-killer-original-imafmwabx9gmaafh.jpeg?q=50\n",
      "https://rukminim1.flixcart.com/image/329/395/k55n0y80/jean/k/b/d/32-pjdnjctfz86913-peter-england-original-imafnfkzxgh9ve9m.jpeg?q=50\n"
     ]
    }
   ],
   "source": [
    "urls = []\n",
    "for image in images:\n",
    "    source = image.get_attribute('src')\n",
    "    urls.append(source)\n",
    "    print(source)"
   ]
  },
  {
   "cell_type": "code",
   "execution_count": 73,
   "metadata": {},
   "outputs": [
    {
     "data": {
      "text/plain": [
       "40"
      ]
     },
     "execution_count": 73,
     "metadata": {},
     "output_type": "execute_result"
    }
   ],
   "source": [
    "len(urls)"
   ]
  },
  {
   "cell_type": "code",
   "execution_count": 74,
   "metadata": {},
   "outputs": [],
   "source": [
    "import shutil\n",
    "import requests"
   ]
  },
  {
   "cell_type": "code",
   "execution_count": 75,
   "metadata": {},
   "outputs": [
    {
     "name": "stdout",
     "output_type": "stream",
     "text": [
      "Downloading 1 of 40 images\n",
      "Downloading 2 of 40 images\n",
      "Downloading 3 of 40 images\n",
      "Downloading 4 of 40 images\n",
      "Downloading 5 of 40 images\n",
      "Downloading 6 of 40 images\n",
      "Downloading 7 of 40 images\n",
      "Downloading 8 of 40 images\n",
      "Downloading 9 of 40 images\n",
      "Downloading 10 of 40 images\n",
      "Downloading 11 of 40 images\n",
      "Downloading 12 of 40 images\n",
      "Downloading 13 of 40 images\n",
      "Downloading 14 of 40 images\n",
      "Downloading 15 of 40 images\n",
      "Downloading 16 of 40 images\n",
      "Downloading 17 of 40 images\n",
      "Downloading 18 of 40 images\n",
      "Downloading 19 of 40 images\n",
      "Downloading 20 of 40 images\n",
      "Downloading 21 of 40 images\n",
      "Downloading 22 of 40 images\n",
      "Downloading 23 of 40 images\n",
      "Downloading 24 of 40 images\n",
      "Downloading 25 of 40 images\n",
      "Downloading 26 of 40 images\n",
      "Downloading 27 of 40 images\n",
      "Downloading 28 of 40 images\n",
      "Downloading 29 of 40 images\n",
      "Downloading 30 of 40 images\n",
      "Downloading 31 of 40 images\n",
      "Downloading 32 of 40 images\n",
      "Downloading 33 of 40 images\n",
      "Downloading 34 of 40 images\n",
      "Downloading 35 of 40 images\n",
      "Downloading 36 of 40 images\n",
      "Downloading 37 of 40 images\n",
      "Downloading 38 of 40 images\n",
      "Downloading 39 of 40 images\n",
      "Downloading 40 of 40 images\n"
     ]
    }
   ],
   "source": [
    "page = 1\n",
    "for index,link in enumerate(urls):\n",
    "    print(\"Downloading {0} of {1} images\".format(index+1,len(urls)))\n",
    "    response = requests.get(link)\n",
    "    with open('flipkart_jeans/img_{0}.jpeg'.format(index),\"wb\") as file:\n",
    "        file.write(response.content)"
   ]
  },
  {
   "cell_type": "code",
   "execution_count": 76,
   "metadata": {},
   "outputs": [],
   "source": [
    "next_page = driver.find_element_by_xpath(\"//a[@class='_3fVaIS']\").click()"
   ]
  },
  {
   "cell_type": "code",
   "execution_count": null,
   "metadata": {},
   "outputs": [],
   "source": []
  }
 ],
 "metadata": {
  "kernelspec": {
   "display_name": "Python 3",
   "language": "python",
   "name": "python3"
  },
  "language_info": {
   "codemirror_mode": {
    "name": "ipython",
    "version": 3
   },
   "file_extension": ".py",
   "mimetype": "text/x-python",
   "name": "python",
   "nbconvert_exporter": "python",
   "pygments_lexer": "ipython3",
   "version": "3.7.4"
  }
 },
 "nbformat": 4,
 "nbformat_minor": 2
}
