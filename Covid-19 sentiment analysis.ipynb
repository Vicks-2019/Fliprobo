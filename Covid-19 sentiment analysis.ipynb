{
 "cells": [
  {
   "cell_type": "markdown",
   "metadata": {},
   "source": [
    "# Scraping twitter data of covid-19\n"
   ]
  },
  {
   "cell_type": "code",
   "execution_count": 18,
   "metadata": {},
   "outputs": [],
   "source": [
    "\n",
    "\n",
    "import string\n",
    "\n",
    "from collections import Counter\n",
    "\n",
    "import matplotlib.pyplot as plt\n",
    "\n",
    "from nltk.corpus import stopwords\n",
    "\n",
    "from nltk.stem import WordNetLemmatizer\n",
    "\n",
    "from nltk.tokenize import word_tokenize\n",
    "\n",
    "import nltk\n",
    "#nltk.download('vader_lexicon')\n",
    "import warnings\n",
    "warnings.filterwarnings('ignore')"
   ]
  },
  {
   "cell_type": "code",
   "execution_count": 19,
   "metadata": {},
   "outputs": [],
   "source": [
    "def get_tweets():\n",
    "    import GetOldTweets3 as got   # library used to scrape data from twitter without any other tools\n",
    "    tweetCriteria = got.manager.TweetCriteria().setQuerySearch('COVID19Tracking') \\\n",
    "        .setSince(\"2020-03-01\") \\\n",
    "        .setUntil(\"2020-04-30\") \\\n",
    "        .setMaxTweets(100)\n",
    "    # Creation of list that contains all tweets\n",
    "    tweets = got.manager.TweetManager.getTweets(tweetCriteria)\n",
    "    # Creating list of chosen tweet data\n",
    "    text_tweets = [[tweet.text] for tweet in tweets]\n",
    "    return text_tweets"
   ]
  },
  {
   "cell_type": "code",
   "execution_count": 20,
   "metadata": {},
   "outputs": [],
   "source": [
    "# reading text file\n",
    "text = \"\"\n",
    "text_tweets = get_tweets()\n",
    "\n",
    "length = len(text_tweets)\n",
    "\n",
    "for i in range(0, length):\n",
    "    text = text_tweets[i][0] + \" \" + text\n",
    "\n",
    "# converting to lowercase\n",
    "lower_case = text.lower()\n",
    "\n",
    "\n",
    "# str.maketrans removes any punctuations \n",
    "\n",
    "cleaned_text = lower_case.translate(str.maketrans('', '', string.punctuation))\n",
    "\n",
    "# Using word_tokenize to tokenize sentence into words\n",
    "\n",
    "tokenized_words = word_tokenize(cleaned_text, \"english\")\n",
    "\n"
   ]
  },
  {
   "cell_type": "code",
   "execution_count": 21,
   "metadata": {},
   "outputs": [
    {
     "data": {
      "text/plain": [
       "[['If you come out of THIS pandemic still believing that quantitative data are inherently more \"objective\" or \"trustworthy\" than qual data?? There is truly nothing more I can do for you. Thank you to my friends @COVID19Tracking for wrangling these misbehaving numbers so patiently. '],\n",
       " ['The #GalaxyNote20 series comes in a stunning array of mystic hues that redefine work and play. Which colour do you have your eyes set on, are you on Team #MysticBronze or Team #MysticGreen? Pre-book now: https://bit.ly/3h07X4z #Samsung'],\n",
       " ['The total number of confirmed #COVID19 cases in #Nebraska has DOUBLED every 7-10 days for the past 3 weeks according to @COVID19Tracking #coronavirus #StayHome'],\n",
       " ['The liar and chief said we’d hit that benchmark “very soon.” We’re a global disgrace'],\n",
       " ['I mean the fact that blue states tend to have the transportation hubs because you know people actually want to visit them instead of nothing to offer ass red states have nothing to do with it...also the fact red states are doing little to no testing to keep those numbers low'],\n",
       " ['We need 5 million per day'],\n",
       " ['Peter , do you think the high death count today was due to backlogs? if deaths lag infection by 3 weeks, how could daily deaths still be increasing after the states with the most deaths have has shelter-in-place for almost 6 weeks??'],\n",
       " ['#UKGovernment @UKgovcomms @COVID19Tracking @BorisJohnson the lockdown needs enforcing why are there more cars on the road and people going back to work?? What’s changed, it’s too early !!'],\n",
       " ['Well, most of the deaths ain’t occurring in red states. They seem to be doing quite well compared to states run by liberals'],\n",
       " [\"Honestly - I'm not sure. might find your answer here https://covidtracking.com/about-data. happy searching!\"],\n",
       " ['Keep going Castro. Maybe he/ she will eventually figure out how dumb the original proposition was.'],\n",
       " ['A very bad plateau to be stuck in as we have been for almost 3 weeks.'],\n",
       " ['Excellent graphs on your site!'],\n",
       " ['I imagine that would be really hard to track but thought I’d ask.'],\n",
       " ['Wait until 9 pm or so for worldmeters to publish the final numbers.'],\n",
       " ['ah well - I think I can beat a calculator :). Try this link, click any state to watch the data move'],\n",
       " ['I just saw some of your other charts and stuff. This is the kind of information I’ve wanted to see. Thanks! You’re going to keep me busy for while.'],\n",
       " ['Yeah because the virus knows to stay in the northeast'],\n",
       " ['Channeling my inner @justin_hart , all the screencap data sucks. @COVID19Tracking reported 164 new deaths in IN (1,065 in total). Screenshots show 901 (5:11am) &amp; 964 (5:11pm)….no clue how you get 164 &amp; 1065. How many deaths did IN actually report today? That would be 21 '],\n",
       " ['Does this take into account those who are re-tested?'],\n",
       " ['Easy to see the trend in tests outpacing the trends in positive cases and deaths here - encouraging stuff. see: https://covidcharts.tech/h'],\n",
       " ['Nice! Did you do this yourself? I’ve searched for something that has this information. Usually I’m just breaking out a calculator. Lol.'],\n",
       " ['The #GalaxyNote20 series comes in a stunning array of mystic hues that redefine work and play. Which colour do you have your eyes set on, are you on Team #MysticBronze or Team #MysticGreen? Pre-book now: https://bit.ly/3h07X4z #Samsung'],\n",
       " ['I got 12% - but same idea. The cumulative % shows a slight declining trend as well'],\n",
       " ['Could you please share how many tests are conducted per 100k, per country again. Thanks!!'],\n",
       " ['I mean, this is literally the reason so many businesses are trying to open back up right now, maybe you should address the same critical eye towards them.'],\n",
       " ['@COVID19Tracking'],\n",
       " ['Nate is trying to use a consistent data set over time, which is why he uses covidtracking'],\n",
       " ['Personally I prefer worldometer because it’s visually easier to look at, and the total number is more accurate.'],\n",
       " ['Thanks'],\n",
       " ['Short story: worldometer is a more accurate death toll. Covidtracking perhaps better at comparing trends.'],\n",
       " ['Worldometers is including “probable deaths”, Covid tracking is not. Specifically, NYC probable deaths. Covidtracking using NYS numbers, which are lower than NYC.'],\n",
       " ['It’s not even a difficult equation, simply take total deaths in the same time period from previous years and compare them to March-April of this year.'],\n",
       " ['@COVID19AFG , @COVID19Tracking '],\n",
       " ['Thanks. I was wondering if the recent increases were due to antibody testing or not.'],\n",
       " ['I agree with you. However, NY still much much higher by many times. They literally criminally neglected nursing homes in NY, that’s why.'],\n",
       " [\"I think they intend to apply considerable resources to the task, and have taken steps to do so. Testing is considered essential, too, but I've not seen much about what's keeping us from scaling up, just mentions of shortages of supplies. Where are other states getting supplies?\"],\n",
       " [\"Oh yes, let's trash DeSantis and fluff Cuomo. You were probably among the ones claiming 4 weeks ago that Florida's numbers were going to baloon...instead, it's Cuomo who killed thousands with his failures in nursing homes and the subway.\"],\n",
       " ['They intend to flatten the curve for 12-18 months.'],\n",
       " ['keep up...'],\n",
       " [\"But hey Kushner said we're winning! #FailureInChief #RIPCONservatism\"],\n",
       " ['Great time to reopen.'],\n",
       " ['Hospitals. Federal government compensates for covid care so they’re incentivized to stack the treatment receipts.'],\n",
       " ['The #GalaxyNote20 series comes in a stunning array of mystic hues that redefine work and play. Which colour do you have your eyes set on, are you on Team #MysticBronze or Team #MysticGreen? Pre-book now: https://bit.ly/3h07X4z #Samsung'],\n",
       " ['NY, NJ, Massachusetts, and Michigan are blue states, as are 14 of the top 15 in deaths per capita. But those red states!'],\n",
       " [\"Yeah it's one line of covid truther theories\"],\n",
       " ['No peer-reviewed whitepaper is recommending keeping shutdowns in effect until we find a cure. It’s unrealistic, & would result in far more death by famine than by the disease. No on’s recommending a finger-snap solution, CDC recommends phased reopenings & social distancing.'],\n",
       " ['Who’s bs’ing?'],\n",
       " ['Oh, don’t worry, @GovRonDeSantis is forbidding the RELEASE of new numbers, so that should def bring Flori-duh numbers down. You’ll be fine.'],\n",
       " ['that’s cause they’re bs’ing the death count. common knowledge'],\n",
       " ['I have seen this narrative catching on lately and it’s a little scary. It feels like the first step on the road to eventually denying that hundreds of thousands of people are dead. If what you say is happening on a wide scale. it will be seen immediately in the stats.'],\n",
       " [\"Wow. So your conspiracy theory that hospitals are lying because it's in their own, selfish financial interest to lie, only works if the hospitals are too stupid to understand what is in their own, selfish financial interest. Got it. I don't think you're very good at this.\"],\n",
       " [\"2,700 US deaths recorded in the past 24 hours, per @COVID19Tracking. That's the most on any day yet, with at least 55,225 deaths total. Here's how COVID-19 compares to the average rate the top causes of death killed Americans in 2018 \"],\n",
       " ['Honest question, on low days do you post “there are obviously uncounted backlogs and the number of cases today is likely higher even assuming that we are on a slowly decreasing trend.”?'],\n",
       " [\"So you don't think they're aware that the lack of elective procedures is costing them cash?\"],\n",
       " ['EXACTLY...'],\n",
       " [\"To make the short term cash. It's called myopia\"],\n",
       " ['I noticed that too.'],\n",
       " ['Right so why make up cases if that keeps the danger high so that elective procedures continue to be banned?'],\n",
       " ['People really loosened up for Easter weekend paying now'],\n",
       " [\"2,700 US deaths recorded in the past 24 hours, per @COVID19Tracking. That's the most on any day yet, with at least 55,225 deaths total. Here's how states compare on a per capita basis (notice PA's weird reporting) \"],\n",
       " ['Today I did the positives divided by today’s test and it shows 11.9%.'],\n",
       " ['May 20 10M ?'],\n",
       " ['You would think. Elective procedures were banned'],\n",
       " ['The #GalaxyNote20 series comes in a stunning array of mystic hues that redefine work and play. Which colour do you have your eyes set on, are you on Team #MysticBronze or Team #MysticGreen? Pre-book now: https://bit.ly/3h07X4z #Samsung'],\n",
       " ['Of course, when the data doesn’t fit your narrative, it’s wrong. Also, I was talking about FL and NY and you had to put CA (which also is doing well) in the mix. Also, stop making shit up, FL is also past its peak.'],\n",
       " [\"Then why are they losing so much money? Wouldn't they want to downplay covid cases so they can get back to elective procedures?\"],\n",
       " ['They get 20% more if COVID and an extra 13K if on a ventilator'],\n",
       " [\"1) official deaths in Florida are undercounted and 2) compared to a place like CA which locked down early, FL's death rate per capita is higher, with its peak still to come while CA's peak is past\"],\n",
       " ['Most deaths ever in one day. Let’s open everything up!! @jimcramer @carlquintanilla @davidfaber @andrewrsorkin @JoeSquawk'],\n",
       " [\"What's the financial incentive? Hospitals are hemorrhaging money from the lack of elective surgeries.\"],\n",
       " [\"You're gonna be waiting a long time.\"],\n",
       " ['You still don’t get it. More people get infected in NY, we all get it. However, if you are infected in NY, your chance of dying (although still extremely low) is FOUR times higher than in Miami. How come?'],\n",
       " ['Incorrect, the answer should have been, I prefer your mom’s back door. And I’ll see myself out.'],\n",
       " ['People still believe this crap. Sigh.'],\n",
       " ['The highest value over time is noteworthy. Either the data set is highly variable with swings between highs and lows or the trend is increasing over time. Both are not great in medicine.'],\n",
       " ['Flattening the curve does exactly what you say, it’s not going to prevent everyone or possibly anyone from getting sick, the area under the curve over 12 months will probably be the same. It’s spreading out the infections to buy time until treatments or prevention is secured.'],\n",
       " ['Because a huge % of the deaths are in the Northeast US, and most places are not even close to critical levels'],\n",
       " ['NY is way more than four times as dense as Miami, which barely even has public transportation. Altho ur point about the woe is me dude just staying home instead of punching air is valid'],\n",
       " ['It can’t be a “new high” if PA is playing catch up? Because the day nyc played “probable catch up” is obviously the dumping 3700 on'],\n",
       " [\"The numbers is blue states that have had shelter-in-place for 6 weeks now are FAR more massive than any red state. It's not even close. Look at NY, NJ, Mass, Conn., Illinois and Michigan Now look at Florida.\"],\n",
       " ['Because the two organizations end their days in different time zones and report what is known when their day ends.'],\n",
       " ['Great data!'],\n",
       " ['What is he going to do when his employer opens, then requires him at work? If he doesn’t show up, it’s job abandonment and loss of unemployment compensation.'],\n",
       " ['CEO of dumbery. Let’s talk IFR then. Higher density causes higher infection numbers, obviously. IFR (infection fatality rate) in NYC is about 4 times higher than in Miami-Dade county (0.8% vs 0.2%). Explain that.'],\n",
       " ['The #GalaxyNote20 series comes in a stunning array of mystic hues that redefine work and play. Which colour do you have your eyes set on, are you on Team #MysticBronze or Team #MysticGreen? Pre-book now: https://bit.ly/3h07X4z #Samsung'],\n",
       " ['Wtf. He had so much time to move lol. Literally put himself in the worst possible position'],\n",
       " [''],\n",
       " ['What is the test-positivity rate now? Still around 20%? (In respect to your previous interesting article, here...)'],\n",
       " ['They should be showing up as positive right now.'],\n",
       " ['meh'],\n",
       " ['Are you tracking recoveries also? I think they are accelerating.'],\n",
       " ['CEO of not understanding population density.'],\n",
       " ['Hey...me again: this is really like paying attention to each individual daily poll in the presidential race....not very informative. You’re good at this stuff: smooth them! Look at a trend over time!'],\n",
       " ['How about everyone stays home so everyone can go out sooner?'],\n",
       " [\"2,700 Americans have died from #COVID19 in a single day. That's a new high. No other country has ever reported more than 2,000 daily deaths. (data via @COVID19Tracking) \"],\n",
       " ['Data is not current. PA is catching up on recordkeeping.'],\n",
       " ['@jaredkushner numbers for you to digest!'],\n",
       " ['Stay home, have a friend or relative do your shopping and infreqently, or have it delivered, go without takeout food or do so only occasionally, and expect to do these for many months. Maybe go for socially distanced walks or exercise at home. Stay safe. Which gov-idiot is it?'],\n",
       " ['@elonmusk']]"
      ]
     },
     "execution_count": 21,
     "metadata": {},
     "output_type": "execute_result"
    }
   ],
   "source": [
    "# Print texts\n",
    "text_tweets"
   ]
  },
  {
   "cell_type": "markdown",
   "metadata": {},
   "source": [
    "# sentiment analysis "
   ]
  },
  {
   "cell_type": "code",
   "execution_count": 22,
   "metadata": {},
   "outputs": [],
   "source": [
    "# Removing Stop Words\n",
    "final_words = []\n",
    "\n",
    "for word in tokenized_words:\n",
    "    if word not in stopwords.words('english'):\n",
    "        final_words.append(word)"
   ]
  },
  {
   "cell_type": "code",
   "execution_count": 23,
   "metadata": {},
   "outputs": [],
   "source": [
    "\n",
    "lemma_words = []\n",
    "\n",
    "for word in final_words:\n",
    "    word = WordNetLemmatizer().lemmatize(word)\n",
    "    lemma_words.append(word)"
   ]
  },
  {
   "cell_type": "code",
   "execution_count": 26,
   "metadata": {},
   "outputs": [
    {
     "name": "stdout",
     "output_type": "stream",
     "text": [
      "People emotions from the text \n",
      " [' sad', ' average', ' happy', ' sad', ' average', ' happy', ' sad'] \n",
      " \n",
      "\n",
      "Count of each emotion \n",
      " Counter({' sad': 3, ' average': 2, ' happy': 2})\n"
     ]
    }
   ],
   "source": [
    "emotion_list = []\n",
    "\n",
    "with open('C:/Users/Vikash/Desktop/Stock_Sentiment/sentiment_analysis_all_files/emotions.txt', 'r') as file:\n",
    "    for line in file:\n",
    "        clear_line = line.replace(\"\\n\", '').replace(\",\", '').replace(\"'\", '').strip()\n",
    "        word, emotion = clear_line.split(':')\n",
    "\n",
    "        if word in lemma_words:\n",
    "            emotion_list.append(emotion)\n",
    "            \n",
    "print(\"People emotions from the text \\n\", emotion_list, '\\n \\n')\n",
    "\n",
    "\n",
    "w = Counter(emotion_list)\n",
    "print(\"Count of each emotion \\n\", w)"
   ]
  },
  {
   "cell_type": "code",
   "execution_count": 27,
   "metadata": {},
   "outputs": [
    {
     "data": {
      "image/png": "[encoded data removed]",
      "text/plain": [
       "<Figure size 432x288 with 1 Axes>"
      ]
     },
     "metadata": {
      "needs_background": "light"
     },
     "output_type": "display_data"
    }
   ],
   "source": [
    "fig, ax1 = plt.subplots()\n",
    "ax1.bar(w.keys(), w.values())\n",
    "fig.autofmt_xdate()\n",
    "plt.savefig('graph.png')\n",
    "plt.show()"
   ]
  },
  {
   "cell_type": "code",
   "execution_count": null,
   "metadata": {},
   "outputs": [],
   "source": []
  }
 ],
 "metadata": {
  "kernelspec": {
   "display_name": "Python 3",
   "language": "python",
   "name": "python3"
  },
  "language_info": {
   "codemirror_mode": {
    "name": "ipython",
    "version": 3
   },
   "file_extension": ".py",
   "mimetype": "text/x-python",
   "name": "python",
   "nbconvert_exporter": "python",
   "pygments_lexer": "ipython3",
   "version": "3.7.4"
  }
 },
 "nbformat": 4,
 "nbformat_minor": 2
}
